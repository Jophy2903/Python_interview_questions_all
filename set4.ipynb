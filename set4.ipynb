{
 "cells": [
  {
   "cell_type": "code",
   "execution_count": null,
   "metadata": {},
   "outputs": [],
   "source": [
    "#Create a program that asks the user to enter their name and their age. \n",
    "#Print out a message addressed to them that tells them the year that they will turn 100 years old.\n",
    "#Add on to the previous program by asking the user for another number and \n",
    "#printing out that many copies of the previous message.\n",
    "#Print out that many copies of the previous message on separate lines. \n",
    "name=input(\"enter the name :\")\n",
    "age=int(input(\"Enter the age :\"))\n",
    "x=100-age\n",
    "new_age=2020+x\n",
    "y=input(\"enter a number less than 10  :\")\n",
    "print(f\" Hi {name} , you are {age} years old now and you will turn 100 years in {new_age}\\n\"*2)\n",
    "\n"
   ]
  },
  {
   "cell_type": "code",
   "execution_count": null,
   "metadata": {},
   "outputs": [],
   "source": [
    "#Ask the user for a number. Depending on whether the number is even or odd, print out an appropriate message to the user.\n",
    "#If the number is a multiple of 4, print out a different message.\n",
    "n=int(input(\"Enter the number :\"))\n",
    "if n%2==0:\n",
    "    print(f\" The number {n} is even \")\n",
    "    if n%4==0:\n",
    "        print(\" The number is a multiple of 4\")\n",
    "else:\n",
    "    print(f\" The number {n} is not even\")"
   ]
  },
  {
   "cell_type": "code",
   "execution_count": null,
   "metadata": {},
   "outputs": [],
   "source": [
    "#write a program that prints out all the elements of the list that are less than 5.\n",
    "n=input(\"enter the numbers\")\n",
    "list1=list(n)\n",
    "print(list1)\n",
    "for num in list1:\n",
    "    if (int(num)<5):\n",
    "        print(num, end=\"\")"
   ]
  },
  {
   "cell_type": "code",
   "execution_count": null,
   "metadata": {},
   "outputs": [],
   "source": [
    "#Ask the user for a string and print out whether this string is a palindrome or not. \n",
    "string1=input(\"Enter the string :\")\n",
    "n=len(string1)\n",
    "print(\"length : \",n)\n",
    "if string1[0:n]==string1[::-1]:\n",
    "    print(\"palindrome\")\n",
    "else:\n",
    "    print(\"not palindrome\")\n",
    "   "
   ]
  },
  {
   "cell_type": "code",
   "execution_count": 10,
   "metadata": {},
   "outputs": [
    {
     "name": "stdout",
     "output_type": "stream",
     "text": [
      "Enter the number of inputs : 4\n",
      "enter the numbers \n",
      "2\n",
      "enter the numbers \n",
      "3\n",
      "enter the numbers \n",
      "4\n",
      "enter the numbers \n",
      "5\n",
      "['2', '3', '4', '5']\n",
      "5\n"
     ]
    }
   ],
   "source": [
    "#To find the largest number of a list\n",
    "lst=[]\n",
    "n=int(input(\"Enter the number of inputs : \"))\n",
    "for i in range(n):\n",
    "    x=input(\"enter the numbers \\n\")\n",
    "    lst.append(x)\n",
    "print(lst)\n",
    "y=max(lst)\n",
    "print(y)\n",
    "    \n"
   ]
  },
  {
   "cell_type": "code",
   "execution_count": null,
   "metadata": {},
   "outputs": [],
   "source": []
  },
  {
   "cell_type": "code",
   "execution_count": 9,
   "metadata": {},
   "outputs": [
    {
     "name": "stdout",
     "output_type": "stream",
     "text": [
      "enter the number :30\n",
      "[1, 2, 3, 5, 6, 10, 15]\n"
     ]
    }
   ],
   "source": [
    "#Create a program that asks the user for a number and then prints out a list of all the divisors of that number. \n",
    "n=int(input(\"enter the number :\"))\n",
    "divisor_list=[]\n",
    "for i in range(1,n):\n",
    "    if n%i==0:\n",
    "        divisor_list.append(i)\n",
    "print(divisor_list)"
   ]
  },
  {
   "cell_type": "code",
   "execution_count": 16,
   "metadata": {},
   "outputs": [
    {
     "name": "stdout",
     "output_type": "stream",
     "text": [
      "{1, 2, 3, 4, 5, 7, 8, 12}\n",
      "{2, 3, 4, 9, 25}\n",
      "{2, 3, 4}\n",
      "[2, 3, 4]\n"
     ]
    }
   ],
   "source": [
    "#Take two lists,\n",
    "#write a program that returns a list that contains only the elements that are common between the lists\n",
    "lst1=[1,2,3,4,7,5,8,12]\n",
    "lst2=[2,3,4,25,9]\n",
    "set1=set(lst1)\n",
    "set2=set(lst2)\n",
    "print(set1)\n",
    "print(set2)\n",
    "result=set1.intersection(set2)\n",
    "print(result)\n",
    "print(list(result))"
   ]
  },
  {
   "cell_type": "code",
   "execution_count": 5,
   "metadata": {},
   "outputs": [
    {
     "name": "stdout",
     "output_type": "stream",
     "text": [
      "['c', 'a', 'l', 'o', 't', 'f', 'l', 'o', 'e', 'w']\n"
     ]
    }
   ],
   "source": [
    "#Create a list of the first letters of every word in the string.\n",
    "#1.using regular expression\n",
    "import re\n",
    "string1=\"create a list of the first letters of every word\"\n",
    "x=re.findall(r\"\\b\\w\",string1)\n",
    "print(x)\n",
    "\n"
   ]
  },
  {
   "cell_type": "code",
   "execution_count": 12,
   "metadata": {},
   "outputs": [
    {
     "name": "stdout",
     "output_type": "stream",
     "text": [
      "c a l o t f l o e w "
     ]
    }
   ],
   "source": [
    "#Create a list of the first letters of every word in the string.\n",
    "#2.using for loop\n",
    "string1=\"create a list of the first letters of every word\"\n",
    "lst=string1.split(\" \")\n",
    "for word in lst:\n",
    "    print(word[0],end=\" \")\n"
   ]
  },
  {
   "cell_type": "code",
   "execution_count": 17,
   "metadata": {},
   "outputs": [
    {
     "name": "stdout",
     "output_type": "stream",
     "text": [
      "['c', 'a', 'l', 'o', 't', 'f', 'l', 'o', 'e', 'w']\n"
     ]
    }
   ],
   "source": [
    "#use list comprehension to create a list of the first letters of every word in the string.\n",
    "#3.using list comprehension\n",
    "string1=\"create a list of the first letters of every word\"\n",
    "mylist=[word[0] for word in string1.split(\" \")]\n",
    "print(mylist)\n"
   ]
  },
  {
   "cell_type": "markdown",
   "metadata": {},
   "source": [
    "# String exercises"
   ]
  },
  {
   "cell_type": "code",
   "execution_count": 24,
   "metadata": {},
   "outputs": [
    {
     "name": "stdout",
     "output_type": "stream",
     "text": [
      "enter a string of odd lenghth greater than 7 :JhonDipPeta\n",
      "5\n",
      "D i p\n"
     ]
    }
   ],
   "source": [
    "#Given a string of odd length greater 7, return a string made of the middle three chars of a given String\n",
    "string1=input(\"enter a string of odd lenghth greater than 7 :\")\n",
    "middle_index=len(string1)//2\n",
    "print(middle_index)\n",
    "print(string1[middle_index-1],string1[middle_index],string1[middle_index+1])"
   ]
  },
  {
   "cell_type": "code",
   "execution_count": 30,
   "metadata": {},
   "outputs": [
    {
     "name": "stdout",
     "output_type": "stream",
     "text": [
      "enter string1 :blueberry\n",
      "enter string2 :icecream\n",
      "bluebicecream\n"
     ]
    }
   ],
   "source": [
    "#Given 2 strings, s1 and s2, create a new string by appending s2 in the middle of s1\n",
    "string1=input(\"enter string1 :\")\n",
    "string2=input(\"enter string2 :\")\n",
    "n=len(string1)//2\n",
    "new_string=string1[:n+1]\n",
    "print(new_string+string2)\n"
   ]
  },
  {
   "cell_type": "code",
   "execution_count": 32,
   "metadata": {},
   "outputs": [
    {
     "name": "stdout",
     "output_type": "stream",
     "text": [
      "enter string1 :america\n",
      "enter string2 :japan\n",
      "ajrpan\n"
     ]
    }
   ],
   "source": [
    "# Given 2 strings, s1, and s2 return a new string made of the first, middle and last char each input string\n",
    "string1=input(\"enter string1 :\")\n",
    "string2=input(\"enter string2 :\")\n",
    "n=len(string1)//2\n",
    "m=len(string2)//2\n",
    "print(string1[0]+string2[0]+string1[n]+string2[m]+string1[-1]+string2[-1])"
   ]
  },
  {
   "cell_type": "code",
   "execution_count": 44,
   "metadata": {},
   "outputs": [
    {
     "name": "stdout",
     "output_type": "stream",
     "text": [
      "ericandianglandAMIE"
     ]
    }
   ],
   "source": [
    "#arrange String characters such that lowercase letters should come first\n",
    "import re\n",
    "string1=\"AMericaIndiaEngland\"\n",
    "str2=re.findall(\"[a-z]\",string1)\n",
    "str3=re.findall(\"[A-Z]\",string1)\n",
    "str2.extend(str3)\n",
    "for i in str2:\n",
    "    print(i,end=\"\")\n"
   ]
  },
  {
   "cell_type": "code",
   "execution_count": 47,
   "metadata": {},
   "outputs": [
    {
     "name": "stdout",
     "output_type": "stream",
     "text": [
      "['e', 'r', 'i', 'c', 'a', 'n', 'd', 'i', 'a', 'n', 'g', 'l', 'a', 'n', 'd', 'A', 'M', 'I', 'E']\n"
     ]
    }
   ],
   "source": [
    "#using for loop\n",
    "string1=\"AMericaIndiaEngland\"\n",
    "lower=[]\n",
    "upper=[]\n",
    "for i in string1:\n",
    "    if i.islower():\n",
    "        lower.append(i)\n",
    "    else:\n",
    "        upper.append(i)\n",
    "lower.extend(upper)\n",
    "print(lower)"
   ]
  },
  {
   "cell_type": "code",
   "execution_count": 56,
   "metadata": {},
   "outputs": [
    {
     "name": "stdout",
     "output_type": "stream",
     "text": [
      "lowercase : 7\n",
      "Uppercase : 1\n",
      "Digits : 3\n",
      "symbols : 4\n"
     ]
    }
   ],
   "source": [
    "#Given a string input Count all lower case, upper case, digits, and special symbols\n",
    "string1= \"P@#yn26at^&i5ve\"\n",
    "lower=re.findall(\"[a-z]\",string1)\n",
    "upper=re.findall(\"[A-Z]\",string1)\n",
    "digits=re.findall(\"\\d\",string1)\n",
    "symbols=re.findall(\"\\W\",string1)\n",
    "print(\"lowercase :\",len(lower))\n",
    "print(\"Uppercase :\",len(upper))\n",
    "print(\"Digits :\",len(digits))\n",
    "print(\"symbols :\",len(symbols))\n"
   ]
  },
  {
   "cell_type": "code",
   "execution_count": null,
   "metadata": {},
   "outputs": [],
   "source": []
  }
 ],
 "metadata": {
  "kernelspec": {
   "display_name": "Python 3",
   "language": "python",
   "name": "python3"
  },
  "language_info": {
   "codemirror_mode": {
    "name": "ipython",
    "version": 3
   },
   "file_extension": ".py",
   "mimetype": "text/x-python",
   "name": "python",
   "nbconvert_exporter": "python",
   "pygments_lexer": "ipython3",
   "version": "3.8.3"
  }
 },
 "nbformat": 4,
 "nbformat_minor": 2
}
