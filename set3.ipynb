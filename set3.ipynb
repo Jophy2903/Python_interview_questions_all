{
 "cells": [
  {
   "cell_type": "code",
   "execution_count": null,
   "metadata": {},
   "outputs": [],
   "source": [
    "#Prime number check\n",
    "l1=[3,5,7,10,15,19,3,6,7,10]\n",
    "\n",
    "count=0\n",
    "for i in l1:\n",
    "    for n in range(2,i):\n",
    "        if i%n==0:\n",
    "            #print(\"not prime\")\n",
    "            break\n",
    "    else:\n",
    "            #print(\"prime\")\n",
    "        count=count+1\n",
    "print(count)\n",
    "    \n",
    "    "
   ]
  },
  {
   "cell_type": "code",
   "execution_count": null,
   "metadata": {},
   "outputs": [],
   "source": [
    "i=int(input(\"enter the number :\"))\n",
    "for n in range(2,i):\n",
    "    if i%n==0:\n",
    "        print(\"not prime\")\n",
    "        break\n",
    "else:\n",
    "    print(\"prime\")\n",
    "        \n",
    "    "
   ]
  },
  {
   "cell_type": "code",
   "execution_count": null,
   "metadata": {},
   "outputs": [],
   "source": [
    "#count the elements and produce a dictionary\n",
    "l1=[3,5,7,10,15,19,3,6,7,10]\n",
    "\n",
    "dict={}\n",
    "for i in l1:\n",
    "    \n",
    "    dict[i]=l1.count(i)\n",
    "    if i in dict.keys():\n",
    "        continue\n",
    "print(dict)\n",
    "\n"
   ]
  },
  {
   "cell_type": "code",
   "execution_count": null,
   "metadata": {},
   "outputs": [],
   "source": [
    "#create a file and find the line number in which the timestamp exists\n",
    "fh=open(\"monday.txt\")\n",
    "for i,lines in enumerate(fh):\n",
    "    #print(i,lines)\n",
    "    if lines.startswith(\"15\"):\n",
    "        print(i,lines)\n"
   ]
  },
  {
   "cell_type": "code",
   "execution_count": 1,
   "metadata": {},
   "outputs": [
    {
     "ename": "NameError",
     "evalue": "name 're' is not defined",
     "output_type": "error",
     "traceback": [
      "\u001b[1;31m---------------------------------------------------------------------------\u001b[0m",
      "\u001b[1;31mNameError\u001b[0m                                 Traceback (most recent call last)",
      "\u001b[1;32m<ipython-input-1-e83a3086daa1>\u001b[0m in \u001b[0;36m<module>\u001b[1;34m\u001b[0m\n\u001b[0;32m      1\u001b[0m \u001b[0mfh\u001b[0m\u001b[1;33m=\u001b[0m\u001b[0mopen\u001b[0m\u001b[1;33m(\u001b[0m\u001b[1;34m\"monday.txt\"\u001b[0m\u001b[1;33m)\u001b[0m\u001b[1;33m\u001b[0m\u001b[1;33m\u001b[0m\u001b[0m\n\u001b[0;32m      2\u001b[0m \u001b[1;32mfor\u001b[0m \u001b[0mlines\u001b[0m \u001b[1;32min\u001b[0m \u001b[0mfh\u001b[0m\u001b[1;33m:\u001b[0m\u001b[1;33m\u001b[0m\u001b[1;33m\u001b[0m\u001b[0m\n\u001b[1;32m----> 3\u001b[1;33m     \u001b[0mmatch\u001b[0m\u001b[1;33m=\u001b[0m\u001b[0mre\u001b[0m\u001b[1;33m.\u001b[0m\u001b[0msearch\u001b[0m\u001b[1;33m(\u001b[0m\u001b[1;34m\"\\d\\d\"\u001b[0m\u001b[1;33m,\u001b[0m\u001b[0mlines\u001b[0m\u001b[1;33m)\u001b[0m\u001b[1;33m\u001b[0m\u001b[1;33m\u001b[0m\u001b[0m\n\u001b[0m\u001b[0;32m      4\u001b[0m     \u001b[1;32mif\u001b[0m \u001b[0mmatch\u001b[0m\u001b[1;33m:\u001b[0m\u001b[1;33m\u001b[0m\u001b[1;33m\u001b[0m\u001b[0m\n\u001b[0;32m      5\u001b[0m         \u001b[0mprint\u001b[0m\u001b[1;33m(\u001b[0m\u001b[0mmatch\u001b[0m\u001b[1;33m.\u001b[0m\u001b[0mspan\u001b[0m\u001b[1;33m(\u001b[0m\u001b[1;33m)\u001b[0m\u001b[1;33m)\u001b[0m\u001b[1;33m\u001b[0m\u001b[1;33m\u001b[0m\u001b[0m\n",
      "\u001b[1;31mNameError\u001b[0m: name 're' is not defined"
     ]
    }
   ],
   "source": [
    "fh=open(\"monday.txt\")\n",
    "for lines in fh:\n",
    "    match=re.search(\"\\d\\d\",lines)\n",
    "    if match:\n",
    "        print(match.span())"
   ]
  },
  {
   "cell_type": "code",
   "execution_count": null,
   "metadata": {},
   "outputs": [],
   "source": [
    "import re\n",
    "fh=\"my phone number is 123243\"\n",
    "value=re.search(\"\\d\\d\",fh)\n",
    "print(value)"
   ]
  },
  {
   "cell_type": "code",
   "execution_count": null,
   "metadata": {},
   "outputs": [],
   "source": [
    "#polymorphism\n",
    "\n",
    "class Cat():\n",
    "    def __init__ (self,name):\n",
    "        self.name=name\n",
    "    def Behaviour(self,colour):\n",
    "        self.colour=colour\n",
    "        \n",
    "        print(f\" Cat name is {self.name} and colour is {colour}\")\n",
    "        \n",
    "class Dog():\n",
    "    def __init__ (self,name):\n",
    "        self.name=name\n",
    "    def Behaviour(self,colour,sound):\n",
    "        self.colour=colour\n",
    "        self.sound=sound\n",
    "        print(f\" Dog name is {self.name} and colour is {colour} which sounds {sound}\")\n",
    "        \n",
    "        \n",
    "cat1=Cat(\"sillu\")\n",
    "cat1.Behaviour(\"black\")\n",
    "dog1=Dog(\"Bow\")\n",
    "dog1.Behaviour(\"white\",\"bowww\")\n",
    "\n",
    "        "
   ]
  },
  {
   "cell_type": "code",
   "execution_count": null,
   "metadata": {},
   "outputs": [],
   "source": []
  },
  {
   "cell_type": "code",
   "execution_count": null,
   "metadata": {},
   "outputs": [],
   "source": [
    "# 1. define a class named car with 2 attributes colour and speed. Then create an instance and return speed.\n",
    "\n",
    "class Car():\n",
    "    def __init__ (self,colour,speed):\n",
    "        self.colour=colour\n",
    "        self.speed=speed\n",
    "        \n",
    "obj=Car(\"blue\",72)\n",
    "print(obj.speed)"
   ]
  },
  {
   "cell_type": "code",
   "execution_count": 2,
   "metadata": {},
   "outputs": [
    {
     "name": "stdout",
     "output_type": "stream",
     "text": [
      "The Dog named tinku eats chicken and have  a black colour\n",
      "None\n",
      " The animal colour is black and sounds bark\n",
      "None\n"
     ]
    }
   ],
   "source": [
    "# 2. How does a class inherit from another class from python. write a code\n",
    "\n",
    "class Animal():\n",
    "    def __init__ (self,colour,behaviour):\n",
    "        self.colour=colour\n",
    "        self.behaviour=behaviour\n",
    "    def pet(self,sound):\n",
    "        self.sound=sound\n",
    "        print(f\" The animal colour is {self.colour} and sounds {sound}\")\n",
    "        \n",
    "animal=Animal(\"white\",\"good\")\n",
    "\n",
    "\n",
    "class Dog(Animal):\n",
    "    def __init__ (self,colour,behaviour,name):\n",
    "        super().__init__ (colour,behaviour)\n",
    "        self.name=name\n",
    "    \n",
    "    def food_style(self,food):\n",
    "        self.food=food\n",
    "        print(f\"The Dog named {self.name} eats {food} and have  a {self.colour} colour\")\n",
    "        \n",
    "dog=Dog(\"black\",\"bow\",\"tinku\")\n",
    "print(dog.food_style(\"chicken\"))\n",
    "print(dog.pet(\"bark\"))\n",
    "    "
   ]
  },
  {
   "cell_type": "code",
   "execution_count": null,
   "metadata": {},
   "outputs": [],
   "source": [
    "# 3. write a python to remove all whitespace from a string\n",
    "\n",
    "def whitespace(string1):\n",
    "    lst=string1.split()\n",
    "    return \"\".join(lst)\n",
    "\n",
    "whitespace(\"beau ti ful\")\n",
    "    \n",
    "\n"
   ]
  },
  {
   "cell_type": "code",
   "execution_count": null,
   "metadata": {},
   "outputs": [],
   "source": [
    "#4. write a pgm to reverse as string without using reverse() inbuilt method\n",
    "\n",
    "str=\"beautiful\"\n",
    "str[::-1]"
   ]
  },
  {
   "cell_type": "code",
   "execution_count": null,
   "metadata": {},
   "outputs": [],
   "source": [
    "#5. write a python function for dictionary comprehension\n",
    "sample=[10,20,30]\n",
    "dict1={ t:t**2 for t in sample}\n",
    "print(dict1)\n"
   ]
  },
  {
   "cell_type": "code",
   "execution_count": null,
   "metadata": {},
   "outputs": [],
   "source": [
    "# 6. write a pgm on lambda function\n",
    "\n",
    "fn=lambda x,y:x+y\n",
    "print(fn(5,3))"
   ]
  },
  {
   "cell_type": "code",
   "execution_count": null,
   "metadata": {},
   "outputs": [],
   "source": [
    "# 7.write a pgm to produce a star triangle\n",
    "\n",
    "for i in range(7):\n",
    "    for j in range(i):\n",
    "        print(\"*\",end=\"\")\n",
    "    print(\"\")"
   ]
  },
  {
   "cell_type": "code",
   "execution_count": 8,
   "metadata": {},
   "outputs": [
    {
     "name": "stdout",
     "output_type": "stream",
     "text": [
      " fibinocci series is :\n",
      "0\n",
      "1\n",
      "1\n"
     ]
    }
   ],
   "source": [
    "# 8.write a pgm to produce fibinocci series\n",
    "def fibinocci(n):\n",
    "    count=0\n",
    "    n1=0\n",
    "    n2=1\n",
    "    \n",
    "    if n<=0:\n",
    "        print(\"print  positive integer\")\n",
    "    elif n==1:\n",
    "        print(\" fibinocci series is :\")\n",
    "        print(n1)\n",
    "    else:\n",
    "        print(\" fibinocci series is :\")\n",
    "        while count<n:\n",
    "            print(n1)\n",
    "            nth=n1+n2\n",
    "            n1=n2\n",
    "            n2=nth\n",
    "            count=count+1\n",
    "            \n",
    "fibinocci(3)\n",
    "         "
   ]
  },
  {
   "cell_type": "code",
   "execution_count": null,
   "metadata": {},
   "outputs": [],
   "source": [
    "# 9. write a pgm to turn a list into dictionary\n",
    "\n",
    "lst=[\"a\",1,\"b\",2,\"c\",3]\n",
    "dict1={lst[i]:lst[i+1] for i in range(0,len(lst),2)}\n",
    "print(dict1)\n"
   ]
  },
  {
   "cell_type": "code",
   "execution_count": 2,
   "metadata": {},
   "outputs": [
    {
     "name": "stdout",
     "output_type": "stream",
     "text": [
      "<list_iterator object at 0x000001ED1E764340>\n"
     ]
    }
   ],
   "source": [
    "# using zip \n",
    "lst=[\"a\",1,\"b\",2,\"c\",3]\n",
    "it=iter(lst)\n",
    "print(it)\n",
    "dic=dict(zip(it,it))\n",
    "print(dic)\n"
   ]
  },
  {
   "cell_type": "code",
   "execution_count": null,
   "metadata": {},
   "outputs": [],
   "source": [
    "#10. write pgm to make http connection and use get and post method"
   ]
  },
  {
   "cell_type": "code",
   "execution_count": null,
   "metadata": {},
   "outputs": [],
   "source": [
    "#11. write a pgm to display files contents in a reversed manner\n",
    "fh=open(\"file1.txt\",\"w\")\n",
    "fh.writelines([\"\\nbeautiful \",\"\\nawesome\"])\n",
    "fh.close()\n",
    "\n",
    "fh=open(\"file1.txt\",\"r\")\n",
    "fh.read()\n",
    "fh.close()\n",
    "\n",
    "\n"
   ]
  },
  {
   "cell_type": "code",
   "execution_count": null,
   "metadata": {},
   "outputs": [],
   "source": [
    "fh=open(\"file1.txt\",\"a\")\n",
    "fh.writelines(\"\\n numbers\")\n",
    "fh.writelines(\"\\n characters\")\n",
    "fh.close()"
   ]
  },
  {
   "cell_type": "code",
   "execution_count": null,
   "metadata": {},
   "outputs": [],
   "source": [
    "# full file contents in a reveresed manner\n",
    "fr=open(\"file1.txt\",\"r\")\n",
    "rev=fr.read()\n",
    "print(rev[::-1])"
   ]
  },
  {
   "cell_type": "code",
   "execution_count": null,
   "metadata": {},
   "outputs": [],
   "source": [
    "# file contents in reversed manner line by line\n",
    "fname=input(\"enter the filename :\")\n",
    "fop=open(fname)\n",
    "\n",
    "#reverse\n",
    "for lines in fop:\n",
    "    new=lines[::-1]\n",
    "    print(new)"
   ]
  },
  {
   "cell_type": "code",
   "execution_count": null,
   "metadata": {},
   "outputs": [],
   "source": []
  },
  {
   "cell_type": "code",
   "execution_count": null,
   "metadata": {},
   "outputs": [],
   "source": [
    "#12. write a pgm to check if the number is prime or not\n",
    "def prime_check(n):\n",
    "    for i in range(2,n):\n",
    "        if n%i==0:\n",
    "            print(\" not prime\")\n",
    "            break\n",
    "    else:\n",
    "            \n",
    "        print(\"prime\")\n",
    "        \n",
    "prime_check(14)\n"
   ]
  },
  {
   "cell_type": "code",
   "execution_count": null,
   "metadata": {},
   "outputs": [],
   "source": [
    "#13. write a one liner that will count the number of capital letters in a file.\n",
    "#your code should work even if the code is too big to fit in the memory\n",
    " \n",
    "fname=input(\"enter the filename :\")\n",
    "fread=open(fname)\n",
    "count=0\n",
    "for lines in fread:\n",
    "    for char in lines:\n",
    "        if char.isupper():\n",
    "            count=count+1\n",
    "    \n",
    "print(count)"
   ]
  },
  {
   "cell_type": "code",
   "execution_count": 3,
   "metadata": {},
   "outputs": [
    {
     "name": "stdout",
     "output_type": "stream",
     "text": [
      "name : rose\n",
      "category : flower\n",
      "colour : red\n",
      "smell : awesome\n",
      "{'name': 'rose', 'category': 'flower', 'colour': 'white', 'smell': 'awesome'}\n"
     ]
    }
   ],
   "source": [
    "# 14. write a code to find various dict operations in python\n",
    "dict1={\"name\":\"rose\",\"category\":\"flower\",\"colour\":\"red\"}\n",
    "\n",
    "dict1[\"colour\"]\n",
    "dict1[\"smell\"]=\"awesome\" # to add elements\n",
    "for x,y in dict1.items():\n",
    "    print(x,\":\",y)\n",
    "dict1[\"colour\"]=\"white\"\n",
    "print(dict1)\n"
   ]
  },
  {
   "cell_type": "code",
   "execution_count": null,
   "metadata": {},
   "outputs": [],
   "source": [
    "dict1.pop(\"name\")\n",
    "print(dict1)"
   ]
  },
  {
   "cell_type": "code",
   "execution_count": null,
   "metadata": {},
   "outputs": [],
   "source": [
    "del dict1[\"colour\"]\n",
    "print(dict1)"
   ]
  },
  {
   "cell_type": "code",
   "execution_count": null,
   "metadata": {},
   "outputs": [],
   "source": [
    "#15. write a code for generator expressions in python\n"
   ]
  },
  {
   "cell_type": "code",
   "execution_count": null,
   "metadata": {},
   "outputs": [],
   "source": [
    "#16. how would you produce a list with unique elements from a list with duplicate elements\n",
    "\n",
    "lst1=[1,2,3,4,5,2,3,1,10,20,3]\n",
    "set1=set(lst1)\n",
    "newlist=list(set1)\n",
    "print(newlist)"
   ]
  },
  {
   "cell_type": "code",
   "execution_count": null,
   "metadata": {},
   "outputs": [],
   "source": [
    "#17.how to convert list to a string in python\n",
    "lst=[\"this\",\"is\",\"a\",\"butterfly\"]\n",
    "str1=\"\".join(lst)\n",
    "print(str1)\n"
   ]
  },
  {
   "cell_type": "code",
   "execution_count": null,
   "metadata": {},
   "outputs": [],
   "source": [
    "# 18. Reverse a string \"Hello Test\" in python through the following ways\n",
    "#Loop, Recursion, Stack,Extended slice syntax,Reversed"
   ]
  },
  {
   "cell_type": "code",
   "execution_count": null,
   "metadata": {},
   "outputs": [],
   "source": [
    "# loop\n",
    "string1=\"Hello Test\"\n",
    "string2=\"\"\n",
    "for i in string1:\n",
    "    string2=i+string2\n",
    "print(string2)"
   ]
  },
  {
   "cell_type": "code",
   "execution_count": 2,
   "metadata": {},
   "outputs": [
    {
     "name": "stdout",
     "output_type": "stream",
     "text": [
      "sknaht\n"
     ]
    }
   ],
   "source": [
    "# recursion\n",
    "def rev(n):\n",
    "    if len(n)==0:\n",
    "        return n\n",
    "    else:\n",
    "        return rev(n[1:])+n[0]\n",
    "print(rev(\"thanks\"))"
   ]
  },
  {
   "cell_type": "code",
   "execution_count": null,
   "metadata": {},
   "outputs": [],
   "source": [
    "# stack"
   ]
  },
  {
   "cell_type": "code",
   "execution_count": null,
   "metadata": {},
   "outputs": [],
   "source": [
    "# extended slice\n",
    "string1=\"Hello Test\"\n",
    "print(string1[::-1])"
   ]
  },
  {
   "cell_type": "code",
   "execution_count": 3,
   "metadata": {},
   "outputs": [
    {
     "name": "stdout",
     "output_type": "stream",
     "text": [
      "tseT olleH\n"
     ]
    }
   ],
   "source": [
    "# reversed\n",
    "string1=\"Hello Test\"\n",
    "lst=[]\n",
    "for i in string1:\n",
    "    lst.append(i)\n",
    "    \n",
    "new_list=reversed(lst)\n",
    "new_string=\"\".join(new_list)\n",
    "print(new_string)"
   ]
  },
  {
   "cell_type": "code",
   "execution_count": null,
   "metadata": {},
   "outputs": [],
   "source": [
    "# find the outputs"
   ]
  },
  {
   "cell_type": "code",
   "execution_count": null,
   "metadata": {},
   "outputs": [],
   "source": [
    "#19 find the outputs print(A0,A1,A2,A3,A4,A5,A6)\n",
    "\n",
    "A0= dict(zip((\"a\",\"b\",\"c\"),(1,2,3)))\n",
    "A1=range(10)\n",
    "A2=sorted([i for i in A1 if i in A0])\n",
    "A3=sorted([A0[s] for s in A0])\n",
    "A4=sorted([i for i in A1 if i in A3])\n",
    "A6=[[i,i*i] for i in A1]\n",
    "\n",
    "print(A0)\n",
    "print(A1)\n",
    "print(A2)\n",
    "print(A3)\n",
    "print(A4)\n",
    "print(A6)"
   ]
  },
  {
   "cell_type": "code",
   "execution_count": null,
   "metadata": {},
   "outputs": [],
   "source": [
    "dict1={\"a\":1,\"b\":2,\"c\":3}\n",
    "for s in dict1:\n",
    "    print(dict1[s])"
   ]
  },
  {
   "cell_type": "code",
   "execution_count": null,
   "metadata": {},
   "outputs": [],
   "source": [
    "dict1={\"a\":1,\"b\":2,\"c\":3}\n",
    "for i in range(10):\n",
    "    if i in dict1.values():\n",
    "        print(i)\n",
    "    "
   ]
  },
  {
   "cell_type": "code",
   "execution_count": null,
   "metadata": {},
   "outputs": [],
   "source": [
    "# 20\n",
    "try: if 1 !=1:\n",
    "raise \"some error\"\n",
    "else: print(\"some error has not occured\")\n",
    "except \"some error\" :\n",
    "    print(\"some error has occured\")"
   ]
  },
  {
   "cell_type": "code",
   "execution_count": null,
   "metadata": {},
   "outputs": [],
   "source": []
  },
  {
   "cell_type": "code",
   "execution_count": null,
   "metadata": {},
   "outputs": [],
   "source": [
    "#21 write  program in python for getting indices of N maximum values in Numpy array\n",
    "\n",
    "import numpy as np\n",
    "arr=np.array([1,3,2,4,5])\n",
    "print(arr.argsort()[-3:][::-1])\n"
   ]
  },
  {
   "cell_type": "code",
   "execution_count": null,
   "metadata": {},
   "outputs": [],
   "source": [
    "# 22. write a code to show randomizing the items of a list in place in python along with the output\n",
    "from random import shuffle\n",
    "x=[\"hacker.io\",\"is\",\"best\",\"in\",\"learning\",\"python\"]\n",
    "shuffle(x)\n",
    "print(x)"
   ]
  },
  {
   "cell_type": "code",
   "execution_count": null,
   "metadata": {},
   "outputs": [],
   "source": [
    "#23.  find the output\n",
    "word=\"abcdefghij\"\n",
    "print(word[:3]+word[3:])"
   ]
  },
  {
   "cell_type": "code",
   "execution_count": null,
   "metadata": {},
   "outputs": [],
   "source": [
    "s=\"beauty\"\n",
    "t=s.r()\n",
    "print(t)"
   ]
  },
  {
   "cell_type": "code",
   "execution_count": null,
   "metadata": {},
   "outputs": [],
   "source": [
    "names1 = ['Amir', 'Bear', 'Charlton', 'Daman']\n",
    "names2 = names1\n",
    "names3 = names1[:]\n",
    "\n",
    "names2[0] = 'Alice'\n",
    "names3[1] = 'Bob'\n",
    "\n",
    "sum = 0\n",
    "for ls in (names1, names2, names3):\n",
    "    if ls[0] == 'Alice':\n",
    "        sum += 1\n",
    "    if ls[1] == 'Bob':\n",
    "        sum += 10\n",
    "print(sum)"
   ]
  },
  {
   "cell_type": "code",
   "execution_count": null,
   "metadata": {},
   "outputs": [],
   "source": [
    " #find the second smallest number from array"
   ]
  },
  {
   "cell_type": "code",
   "execution_count": null,
   "metadata": {},
   "outputs": [],
   "source": [
    "#find fibinocci series nth term"
   ]
  },
  {
   "cell_type": "code",
   "execution_count": null,
   "metadata": {},
   "outputs": [],
   "source": []
  },
  {
   "cell_type": "code",
   "execution_count": null,
   "metadata": {},
   "outputs": [],
   "source": []
  }
 ],
 "metadata": {
  "kernelspec": {
   "display_name": "Python 3",
   "language": "python",
   "name": "python3"
  },
  "language_info": {
   "codemirror_mode": {
    "name": "ipython",
    "version": 3
   },
   "file_extension": ".py",
   "mimetype": "text/x-python",
   "name": "python",
   "nbconvert_exporter": "python",
   "pygments_lexer": "ipython3",
   "version": "3.8.3"
  }
 },
 "nbformat": 4,
 "nbformat_minor": 2
}
