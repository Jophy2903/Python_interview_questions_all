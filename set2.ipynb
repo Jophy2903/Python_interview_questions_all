{
 "cells": [
  {
   "cell_type": "code",
   "execution_count": null,
   "metadata": {},
   "outputs": [],
   "source": [
    "1. Given a dict whose keys are integers and list of integers as values, the result should be the position of integers\n",
    "  in the list(values of dict) that gives the key when performing sum operation within the value list.\n",
    " input:{9,(14,2,3,7,11,15)}\n",
    "    output :1,3\n"
   ]
  },
  {
   "cell_type": "code",
   "execution_count": null,
   "metadata": {},
   "outputs": [],
   "source": [
    "dict1={9:(14,2,3,7,11,15),20:(4,12,7,13)}\n",
    "for i,j in dict1.items():\n",
    "    for ele1 in j:\n",
    "        pos=j.index(ele1)\n",
    "        for ele2 in j[pos:]:\n",
    "            if ele1+ele2==i:\n",
    "                print(\"key value pair is  \",i,\":\",j)\n",
    "                print(\" positions are - \",j.index(ele1),j.index(ele2))\n",
    "                          \n",
    "    "
   ]
  },
  {
   "cell_type": "code",
   "execution_count": null,
   "metadata": {},
   "outputs": [],
   "source": [
    "lst=[19,23,3]\n",
    "pos=lst.index(23)\n",
    "print(pos)"
   ]
  },
  {
   "cell_type": "code",
   "execution_count": null,
   "metadata": {},
   "outputs": [],
   "source": [
    "2. create a function that returns a boolean value based on an input string. The string will be a set of brackets: if each \n",
    "    opening bracket has a valid , corresponding close bracket, return true.\n",
    "x='((()))'\n",
    "y='((())'\n",
    "A=\"[](){}\"\n",
    "B=\")))(((\"\n",
    "\n",
    "output x->true\n",
    "       y->false\n",
    "       a->true\n",
    "       b->false"
   ]
  },
  {
   "cell_type": "code",
   "execution_count": null,
   "metadata": {},
   "outputs": [],
   "source": [
    "def check(mystring):\n",
    "    open_lst=[\"(\",\"[\",\"{\"]\n",
    "    close_lst=[\")\",\"]\",\"}\"]\n",
    "    stack=[]\n",
    "    for i in mystring:\n",
    "        if i in open_lst:\n",
    "            stack.append(i)\n",
    "        elif i in close_lst:\n",
    "            pos=close_lst.index(i)\n",
    "            if (len(stack)>0 and (open_lst[pos]==stack[-1])):\n",
    "                stack.pop()\n",
    "            else:\n",
    "                return \"false\"\n",
    "    if len(stack)==0:\n",
    "        return \"true\"\n",
    "    else:\n",
    "        return \"false\"\n",
    "        \n",
    "    \n",
    "x='((()))'\n",
    "y='((())'\n",
    "A=\"[](){}\"\n",
    "B=\")))(((\"   \n",
    "    \n",
    "print(check(A))"
   ]
  },
  {
   "cell_type": "code",
   "execution_count": null,
   "metadata": {},
   "outputs": [],
   "source": []
  },
  {
   "cell_type": "code",
   "execution_count": null,
   "metadata": {},
   "outputs": [],
   "source": [
    "3. find all the occurances of an item in list\n",
    "input:['foo','bar','baz','bar','koo','foo']\n",
    "    output: foo-2, bar-2,baz-1,koo-1\n",
    "        use enumerate"
   ]
  },
  {
   "cell_type": "code",
   "execution_count": null,
   "metadata": {},
   "outputs": [],
   "source": [
    "ex=['foo','bar','baz','bar','koo','foo']\n",
    "dict1={}\n",
    "for i in ex:\n",
    "    dict1[i]=ex.count(i)\n",
    "for i,j in dict1.items():\n",
    "    print(i,j)"
   ]
  },
  {
   "cell_type": "code",
   "execution_count": null,
   "metadata": {},
   "outputs": [],
   "source": [
    "ex=['foo','bar','baz','bar','koo','foo']\n",
    "for i in enumerate(ex):\n",
    "    print(i)"
   ]
  },
  {
   "cell_type": "code",
   "execution_count": null,
   "metadata": {},
   "outputs": [],
   "source": []
  },
  {
   "cell_type": "code",
   "execution_count": null,
   "metadata": {},
   "outputs": [],
   "source": [
    "4. Given below the input, form the provided output\n",
    "   input : things=[(\"animal\",\"bear\"),(\"animal\",\"duck\"),(\"plant\",\"cactus\"),(\"vehicle\",\"speed boat\"),(\"vehicle\",\"school bus\")]\n",
    "    output: a bear is a animal\n",
    "            a duck is a animal\n",
    "            a catus is a plant\n",
    "            a speed boat is a vehicle\n",
    "            a school bus is a vehicle\n",
    "            \n",
    "expected logic to be used: itertools-group by"
   ]
  },
  {
   "cell_type": "code",
   "execution_count": null,
   "metadata": {},
   "outputs": [],
   "source": [
    "things=[(\"animal\",\"bear\"),(\"animal\",\"duck\"),(\"plant\",\"cactus\"),(\"vehicle\",\"speed boat\"),(\"vehicle\",\"school bus\")]\n",
    "for i in things:\n",
    "    print(f\"a {i[1]} is a {i[0]}\")\n",
    "    \n"
   ]
  },
  {
   "cell_type": "code",
   "execution_count": null,
   "metadata": {},
   "outputs": [],
   "source": [
    "from itertools import groupby\n",
    "\n",
    "\n",
    "things=[(\"animal\",\"bear\"),(\"animal\",\"duck\"),(\"plant\",\"cactus\"),(\"vehicle\",\"speed boat\"),(\"vehicle\",\"school bus\")]\n",
    "\n",
    "for key,group in groupby(things,lambda x:x[0]):\n",
    "    for i in group:\n",
    "        print(f\"a {i[1]} is a {i[0]}\")\n",
    "\n"
   ]
  },
  {
   "cell_type": "code",
   "execution_count": null,
   "metadata": {},
   "outputs": [],
   "source": [
    "for key, group in groupby(things, lambda x: x[0]):\n",
    "    for thing in group:\n",
    "        print(\"A %s is a %s.\" % (thing[1], key))\n",
    "    print(\"\")"
   ]
  },
  {
   "cell_type": "code",
   "execution_count": null,
   "metadata": {},
   "outputs": [],
   "source": [
    "5. Given the input dataframe provide the given output dataframe\n",
    " input:df\n",
    "        A   B    C\n",
    "    0   a   1    2\n",
    "    1   b   3    4\n",
    "    2   c   5    6\n",
    "    \n",
    "    \n",
    "output:\n",
    "    A    Variable   Value\n",
    "0   a     B        1\n",
    "1   b     B        3\n",
    "2   c     B        5\n",
    "3   a     C        2\n",
    "4   b     C        4\n",
    "5   c     C        6\n",
    "\n",
    "expected logic:melt()"
   ]
  },
  {
   "cell_type": "code",
   "execution_count": null,
   "metadata": {},
   "outputs": [],
   "source": [
    "6. Get N lines of input from the user. Reverse the order of words in each lines of input while preserving the words.\n",
    "Avoid leading or trailing spaces\n",
    "\n",
    "eg: Hello world\n",
    "    nice world\n",
    "    beautiful world\n",
    "    \n",
    "output:world hello\n",
    "       world nice\n",
    "       world beautiful"
   ]
  },
  {
   "cell_type": "code",
   "execution_count": 23,
   "metadata": {},
   "outputs": [
    {
     "name": "stdout",
     "output_type": "stream",
     "text": [
      "enter the input : hello world\n",
      "enter the input : nice world\n",
      "enter the input : \n",
      "world hello\n",
      "world nice\n"
     ]
    }
   ],
   "source": [
    "new=[]\n",
    "while True:\n",
    "    \n",
    "    lines=input(\"enter the input : \").lstrip().rstrip()\n",
    "    if not lines:\n",
    "        break\n",
    "    else:\n",
    "        new.append(lines)\n",
    "        \n",
    "for i in new:\n",
    "    j=i.split()\n",
    "    j.reverse()\n",
    "    print(\" \".join(j))\n",
    "        \n",
    "\n"
   ]
  },
  {
   "cell_type": "code",
   "execution_count": 11,
   "metadata": {},
   "outputs": [
    {
     "name": "stdout",
     "output_type": "stream",
     "text": [
      "['world', 'hello']\n"
     ]
    }
   ],
   "source": [
    "string=\"hello world\"\n",
    "lst=string.split()\n",
    "lst.reverse()\n",
    "print(lst)\n",
    "\n"
   ]
  },
  {
   "cell_type": "code",
   "execution_count": null,
   "metadata": {},
   "outputs": [],
   "source": []
  }
 ],
 "metadata": {
  "kernelspec": {
   "display_name": "Python 3",
   "language": "python",
   "name": "python3"
  },
  "language_info": {
   "codemirror_mode": {
    "name": "ipython",
    "version": 3
   },
   "file_extension": ".py",
   "mimetype": "text/x-python",
   "name": "python",
   "nbconvert_exporter": "python",
   "pygments_lexer": "ipython3",
   "version": "3.8.3"
  }
 },
 "nbformat": 4,
 "nbformat_minor": 4
}
