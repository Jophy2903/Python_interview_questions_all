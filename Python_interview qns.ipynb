{
 "cells": [
  {
   "cell_type": "markdown",
   "metadata": {},
   "source": [
    "# closure functions"
   ]
  },
  {
   "cell_type": "code",
   "execution_count": 1,
   "metadata": {},
   "outputs": [
    {
     "name": "stdout",
     "output_type": "stream",
     "text": [
      "7\n"
     ]
    }
   ],
   "source": [
    "#1. closures and its usages\n",
    "\n",
    "A Closure is a function object that remembers values in enclosing scopes even if they are not present in memory.\n",
    "\n",
    "\n",
    "def outerfunc(x):\n",
    "    def innerfunc():\n",
    "        print(x)\n",
    "    return innerfunc #Return the object instead of calling the function\n",
    "\n",
    "myfunc=outerfunc(7)\n",
    "myfunc()\n",
    "\n"
   ]
  },
  {
   "cell_type": "code",
   "execution_count": null,
   "metadata": {},
   "outputs": [],
   "source": [
    "# The conditions have to meet for closure functions\n",
    "We must have a nested function.\n",
    "This nested function must refer to a variable nonlocal to it(a variable in the scope enclosing it).\n",
    "The enclosing scope must return this function."
   ]
  },
  {
   "cell_type": "code",
   "execution_count": null,
   "metadata": {},
   "outputs": [],
   "source": [
    "# Benefits\n",
    "A closure, lets us implement a Python decorator.\n",
    "A closure lets us invoke Python function outside its scope.\n",
    "provide some form of data hiding\n"
   ]
  },
  {
   "cell_type": "markdown",
   "metadata": {},
   "source": [
    "# Pass statement"
   ]
  },
  {
   "cell_type": "code",
   "execution_count": null,
   "metadata": {},
   "outputs": [],
   "source": [
    "Python pass Statement\n",
    "The pass statement is used as a placeholder for future code. When the pass statement is executed, nothing happens,\n",
    "but you avoid getting an error when empty code is not allowed. \n",
    "Empty code is not allowed in loops, function definitions, class definitions, or in if statements.\n",
    "\n",
    "It can be used for creating empty class in python."
   ]
  },
  {
   "cell_type": "markdown",
   "metadata": {},
   "source": [
    "# Http service calls in python"
   ]
  },
  {
   "cell_type": "code",
   "execution_count": null,
   "metadata": {},
   "outputs": [],
   "source": [
    "-HTTP stands for the 'HyperText Transfer Protocol,'\n",
    "where communication is possible by request done by the client(browser in our case) and the response made by the server.\n",
    "\n",
    "There are many libraries to make an HTTP request in Python, which are httplib, urllib,requests etc\n",
    "\n",
    "pip install requests  # install the library\n",
    "import requests # import the module\n",
    "\n",
    "r=requests.get('https://xkcd.com/1906/') #retrieve the data from the specific resource\n",
    "\n",
    "r.status_codes\n",
    "r.headers\n",
    "r.text\n",
    "\n"
   ]
  },
  {
   "cell_type": "code",
   "execution_count": null,
   "metadata": {},
   "outputs": [],
   "source": [
    "import requests\n",
    "receive = requests.get('https://imgs.xkcd.com/comics/making_progress.png')\n",
    "\n",
    "with open(r'C:\\Users\\Dell\\Desktop\\comics\\image5.png','wb') as f: #dwnlding and saving the request#wb writing files in binary way\n",
    "    f.write(recieve.content)\n",
    "    "
   ]
  },
  {
   "cell_type": "markdown",
   "metadata": {},
   "source": [
    "# Accessors and Mutators"
   ]
  },
  {
   "cell_type": "code",
   "execution_count": null,
   "metadata": {},
   "outputs": [],
   "source": [
    "#Accessor Method:\n",
    "This method is used to access the state of the object i.e, the data hidden in the object can be accessed from this method. \n",
    "However, this method cannot change the state of the object, it can only access the data hidden. \n",
    "We can name these methods with the word get.\n",
    "#Mutator Method:\n",
    "This method is used to mutate/modify the state of an object i.e, it alters the hidden value of the data variable. \n",
    "It can set the value of a variable instantly to a new value. This method is also called as update method. \n",
    "Moreover, we can name these methods with the word set.\n",
    "\n",
    "eg:\n",
    "    \n",
    "lst=[1,2,3,4,3,5]\n",
    "print(lst.index(2)) #accessor method ...accessing the data\n",
    "print(lst.count(2)) # accessor method\n",
    "\n",
    "lst.append(10)  # mutator method ...modifying the list by adding new element "
   ]
  },
  {
   "cell_type": "markdown",
   "metadata": {},
   "source": [
    "# why python is called as object oriented"
   ]
  },
  {
   "cell_type": "code",
   "execution_count": null,
   "metadata": {},
   "outputs": [],
   "source": [
    "-python is an object oriented language because it allows us to develop applications using an Object-Oriented approach\n",
    "-Python supports most of the terms associated with \"objected-oriented\" programming language except strong encapsulation.\n",
    "-OOP's concepts like, Classes,Encapsulation,Polymorphism, Inheritance etc..\n",
    "in Python makes it as a object oriented programming language. \n",
    "-In oops , Importance is given to data rather than procedures.\n",
    "# oops benefits\n",
    "\n",
    "code reusability (inheritance)\n",
    "security (data abstraction and encapsulation)\n",
    "flexibility (polymorphism)--as same person behaving differently based on surroundings, same method used for diff purposes\n",
    "better productivity\n",
    "easy troubleshooting"
   ]
  },
  {
   "cell_type": "markdown",
   "metadata": {},
   "source": [
    "# string interpolation in python "
   ]
  },
  {
   "cell_type": "code",
   "execution_count": null,
   "metadata": {},
   "outputs": [],
   "source": [
    "String Interpolation is the process of substituting values of variables into placeholders in a string\n",
    "\n",
    "%-formatting\n",
    "Str.format()\n",
    "f-strings\n",
    "Template Strings"
   ]
  },
  {
   "cell_type": "markdown",
   "metadata": {},
   "source": [
    "# python environment variables"
   ]
  },
  {
   "cell_type": "code",
   "execution_count": null,
   "metadata": {},
   "outputs": [],
   "source": [
    "variables that exist outside of your code as part of your server environment— \n",
    "can help you by both streamlining and making more secure the process of running your scripts and applications\n",
    "\n",
    "\n",
    "\n",
    "import os\n",
    "print(os.environ) # give all environment variables in python\n",
    "\n",
    "os.environ.get(\"user\") # gives the username\n",
    "\n",
    "os.environ['USER'] = 'Bob' # set environment variables to new strings..like dictionaries"
   ]
  },
  {
   "cell_type": "code",
   "execution_count": null,
   "metadata": {},
   "outputs": [],
   "source": []
  },
  {
   "cell_type": "markdown",
   "metadata": {},
   "source": [
    "# What are the tools that help to find bugs or perform static analysis in Python?"
   ]
  },
  {
   "cell_type": "code",
   "execution_count": null,
   "metadata": {},
   "outputs": [],
   "source": [
    "# Static analysis\n",
    "\n",
    "Static analysis,is a method of computer program debugging that is done by examining the code without executing the program\n",
    "\n",
    "#Pychecker\n",
    "-Pychecker and Pylint are the static analysis tools that help to find bugs in python.\n",
    "\n",
    "Pychecker is an opensource tool for static analysis that detects the bugs from source code and \n",
    "warns about the style and complexity of the bug.\n",
    "\n",
    "eg of error\n",
    "-Passing the wrong number of parameters to builtin functions & methods\n",
    "-No doc strings in modules, classes, functions, and methods\n",
    "\n",
    "#Pylint\n",
    "\n",
    "Pylint is highly configurable and it acts like special programs to control warnings and errors, \n",
    "it is an extensive configuration file Pylint is also an opensource tool for static code analysis it looks for programming errors\n",
    "and is used for coding standard. it checks the length of each programming line. it checks the variable names according to the \n",
    "project style. it can also be used as a standalone program, it also integrates with python IDEs such as Pycharm, Spyder, \n",
    "Eclipse, and Jupyter"
   ]
  },
  {
   "cell_type": "code",
   "execution_count": null,
   "metadata": {},
   "outputs": [],
   "source": [
    "#type pip install pylint in command prompt\n",
    "#open sublime text editor and type a program.save it in the same directory as that of pylint\n",
    "#go to command prompt and type pylint name.py\n",
    "#we will get the errors noted"
   ]
  },
  {
   "cell_type": "markdown",
   "metadata": {},
   "source": [
    "# what can be the length of the identifier in python"
   ]
  },
  {
   "cell_type": "code",
   "execution_count": null,
   "metadata": {},
   "outputs": [],
   "source": [
    "Identifiers are unlimited in length.\n",
    "But you'll be violating PEP-8 most likely, which is not really cool: Limit all lines to a maximum of 79 characters."
   ]
  },
  {
   "cell_type": "markdown",
   "metadata": {},
   "source": [
    "# Limitations of python"
   ]
  },
  {
   "cell_type": "code",
   "execution_count": null,
   "metadata": {},
   "outputs": [],
   "source": [
    "#speed\n",
    " Python is an interpreted language and is slow as compared to C/C++ or Java.\n",
    " execution of Python takes place with the help of an interpreter instead of the compiler \n",
    "Python code is executed line by line, which causes it to slow down.\n",
    "\n",
    "# mobile development\n",
    "However Python is strong in desktop and server platforms, that is it is an excellent server-side language\n",
    "but for the mobile development, Python is not a very good language which means it is a weak language for mobile development\n",
    "\n",
    "#Memory Consumption:\n",
    "For any memory intensive tasks Python is not a good choice. That is why it is not used for that purpose. \n",
    "Python’s memory consumption is also high, due to the flexibility of the data types.\n",
    "\n",
    "#Runtime errors\n",
    "\n",
    "This language requires more testing and also it has errors that only show up at runtime this is because \n",
    "the language is dynamically typed.\n",
    "\n",
    "# simple programming language"
   ]
  },
  {
   "cell_type": "markdown",
   "metadata": {},
   "source": [
    "# Instance method, class method, static method"
   ]
  },
  {
   "cell_type": "code",
   "execution_count": null,
   "metadata": {},
   "outputs": [],
   "source": [
    "class MyClass:\n",
    "    def method(self): # takes one parameter, self, which points to an instance of MyClass when the method is called\n",
    "        return 'instance method called', self \n",
    "    \n",
    "    @classmethod\n",
    "    def classmethod(cls):#it take a cls parameter that points to the class—and not the object instance—when the method is called\n",
    "        return 'class method called', cls\n",
    "\n",
    "    @staticmethod\n",
    "    def staticmethod(): #This type of method takes neither a self nor a cls parameter\n",
    "        return 'static method called'\n",
    "    \n",
    "    \n",
    "    \n",
    "Because the class method only has access to this cls argument, it can’t modify object instance state."
   ]
  },
  {
   "cell_type": "code",
   "execution_count": null,
   "metadata": {},
   "outputs": [],
   "source": [
    "1.A class method takes cls as first parameter while a static method needs no specific parameters.\n",
    "2.A class method can access or modify class state while a static method can’t access or modify it.\n",
    "3.In general, static methods know nothing about class state.\n",
    "They are utility type methods that take some parameters and work upon those parameters. \n",
    "On the other hand class methods must have class as parameter.\n",
    "4.We use @classmethod decorator in python to create a class method and\n",
    "we use @staticmethod decorator to create a static method in python.\n",
    "5. we use class method to create factory methods and static method to make utility functions"
   ]
  },
  {
   "cell_type": "code",
   "execution_count": null,
   "metadata": {},
   "outputs": [],
   "source": [
    "Instance Methods: The most common method type. Able to access data and properties unique to each instance.\n",
    "Static Methods: Cannot access anything else in the class. Totally self-contained code.\n",
    "Class Methods: Can access limited methods in the class. Can modify class specific details."
   ]
  },
  {
   "cell_type": "markdown",
   "metadata": {},
   "source": [
    "# why lambda form in python have no statements"
   ]
  },
  {
   "cell_type": "code",
   "execution_count": null,
   "metadata": {},
   "outputs": [],
   "source": [
    "Python's lambda forms cannot contain statements because\n",
    "Python's syntactic framework can't handle statements nested inside expressions.\n",
    "\n",
    "lambda fns are anonymous(not bound to name)"
   ]
  },
  {
   "cell_type": "code",
   "execution_count": null,
   "metadata": {},
   "outputs": [],
   "source": [
    "We use lambda functions when we require a nameless function for a short period of time. \n",
    "In Python, we generally use it as an argument to a higher-order function"
   ]
  },
  {
   "cell_type": "code",
   "execution_count": null,
   "metadata": {},
   "outputs": [],
   "source": [
    "# break and continue in a loop"
   ]
  },
  {
   "cell_type": "code",
   "execution_count": 3,
   "metadata": {},
   "outputs": [
    {
     "name": "stdout",
     "output_type": "stream",
     "text": [
      "0\n",
      "1\n",
      "2\n",
      "3\n",
      "4\n",
      "6\n"
     ]
    }
   ],
   "source": [
    "for i in range(9):\n",
    "    if i==5:\n",
    "        continue\n",
    "    elif i==7:\n",
    "        break\n",
    "    else:\n",
    "        print(i)\n",
    "        "
   ]
  },
  {
   "cell_type": "markdown",
   "metadata": {},
   "source": [
    "# Iterators"
   ]
  },
  {
   "cell_type": "code",
   "execution_count": null,
   "metadata": {},
   "outputs": [],
   "source": [
    "#An iterator is an object that contains a countable number of values and can be iterated upon (traverse) each value\n",
    "Iterator in python is any python type that can be used with a ‘for in loop’. \n",
    "Python lists, tuples, dicts and sets are all examples of inbuilt iterators. \n",
    "\n",
    "Lists, tuples, dictionaries, and sets are all iterable objects\n",
    "All these objects have a iter() method which is used to get an iterator\n",
    "\n",
    "Any object that wants to be an iterator must implement following methods.\n",
    "next and iter methods(to initialize iterator)\n"
   ]
  },
  {
   "cell_type": "code",
   "execution_count": 4,
   "metadata": {},
   "outputs": [
    {
     "name": "stdout",
     "output_type": "stream",
     "text": [
      "apple\n",
      "banana\n",
      "cherry\n"
     ]
    }
   ],
   "source": [
    "mytuple = (\"apple\", \"banana\", \"cherry\")\n",
    "myit = iter(mytuple)\n",
    "\n",
    "print(next(myit))\n",
    "print(next(myit))\n",
    "print(next(myit))\n"
   ]
  },
  {
   "cell_type": "code",
   "execution_count": null,
   "metadata": {},
   "outputs": [],
   "source": [
    "# strings are also iterables\n",
    "mystr = \"banana\"\n",
    "myit = iter(mystr)\n",
    "\n",
    "print(next(myit))\n",
    "print(next(myit))"
   ]
  },
  {
   "cell_type": "code",
   "execution_count": null,
   "metadata": {},
   "outputs": [],
   "source": [
    "# utility functions\n",
    "A program that performs a very specific task, usually related to managing system resources. \n",
    "Operating systems contain a number of utilities for managing disk drives, printers, and other devices.\n",
    "Utilities differ from applications mostly in terms of size, complexity and function.\n",
    "\n",
    "# factory methods\n",
    "\n",
    "Factory method is a creational design pattern which solves the problem of creating product objects without \n",
    "specifying their concrete classes."
   ]
  },
  {
   "cell_type": "markdown",
   "metadata": {},
   "source": [
    "# life cycle of a thread in python\n"
   ]
  },
  {
   "cell_type": "code",
   "execution_count": null,
   "metadata": {},
   "outputs": [],
   "source": [
    "Ready\n",
    "Running\n",
    "Waiting\n",
    "Dead state"
   ]
  },
  {
   "cell_type": "code",
   "execution_count": null,
   "metadata": {},
   "outputs": [],
   "source": [
    "#whitebox testing\n",
    "is a method of software testing that tests internal structures or workings of an application,\n",
    "as opposed to its functionality (i.e. black-box testing)."
   ]
  },
  {
   "cell_type": "markdown",
   "metadata": {},
   "source": [
    "# unittest"
   ]
  },
  {
   "cell_type": "code",
   "execution_count": null,
   "metadata": {},
   "outputs": [],
   "source": [
    "unit testing is the first level of software testing\n",
    "This is used to validate that each unit of the software performs as designed.\n",
    "\n",
    "#Method:\n",
    "White Box Testing method is used for Unit testing.\n",
    "\n",
    "\n",
    "import unittest\n"
   ]
  },
  {
   "cell_type": "code",
   "execution_count": null,
   "metadata": {},
   "outputs": [],
   "source": [
    "OOP concepts supported by unittest framework:\n",
    "\n",
    "#test fixture:\n",
    "A test fixture is used as a baseline for running tests to ensure that there is a fixed environment in which tests are run \n",
    "so that results are repeatable.\n",
    "Examples :\n",
    "creating temporary databases.\n",
    "starting a server process.\n",
    "\n",
    "#test case:\n",
    "A test case is a set of conditions which is used to determine whether a system under test works correctly.\n",
    "\n",
    "#test suite:\n",
    "Test suite is a collection of testcases that are used to test a software program to show that it has some specified set \n",
    "of behaviours by executing the aggregated tests together.\n",
    "\n",
    "#test runner:\n",
    "A test runner is a component which set up the execution of tests and provides the outcome to the user."
   ]
  },
  {
   "cell_type": "code",
   "execution_count": null,
   "metadata": {},
   "outputs": [],
   "source": [
    "#Assert functions in python\n",
    "\n",
    "Python's assert statement is a debugging aid that tests a condition. \n",
    "If the condition is true, it does nothing and your program just continues to execute. But if the assert condition evaluates \n",
    "to false, it raises an AssertionError exception with an optional error message."
   ]
  },
  {
   "cell_type": "code",
   "execution_count": null,
   "metadata": {},
   "outputs": [],
   "source": [
    "import unittest \n",
    "  \n",
    "class SimpleTest(unittest.TestCase): \n",
    "  \n",
    "    # Returns True or False.  \n",
    "    def test(self):         \n",
    "        self.assertTrue(True) \n",
    "  \n",
    "if __name__ == '__main__': \n",
    "    unittest.main() "
   ]
  },
  {
   "cell_type": "markdown",
   "metadata": {},
   "source": [
    "# how arguments passed in python"
   ]
  },
  {
   "cell_type": "code",
   "execution_count": null,
   "metadata": {},
   "outputs": [],
   "source": [
    "Ans: Call by Object Reference\n",
    "    \n",
    "    Mutable objects :call by reference\n",
    "    It means if you change what a parameter refers to within a function, the change also reflects back in the calling function.\n",
    "    \n",
    "    Immutable objects : call by value \n",
    "\n",
    "In Call by value, a copy of the variable is passed whereas in Call by reference, a variable itself is passed.\n",
    "In Call by value, actual and formal arguments will be created in different memory locations whereas in Call by reference,\n",
    "actual and formal arguments will be created in the same memory location"
   ]
  },
  {
   "cell_type": "code",
   "execution_count": null,
   "metadata": {},
   "outputs": [],
   "source": [
    "# call by value- immutable objects\n",
    "string = \"Geeks\"\n",
    "  \n",
    "  \n",
    "def test(string): \n",
    "      \n",
    "    string = \"GeeksforGeeks\"\n",
    "    print(\"Inside Function:\", string) \n",
    "      \n",
    "# Driver's code \n",
    "test(string) \n",
    "print(\"Outside Function:\", string) \n",
    "\n",
    "output : Inside Function: GeeksforGeeks\n",
    "        Outside Function: Geeks\n",
    "            \n",
    " \n",
    "\n",
    "\n",
    "# call by reference - mutable\n",
    "def add_more(list): \n",
    "    list.append(50) \n",
    "    print(\"Inside Function\", list) \n",
    "  \n",
    "# Driver's code \n",
    "mylist = [10,20,30,40] \n",
    "  \n",
    "add_more(mylist) \n",
    "print(\"Outside Function:\", mylist) \n",
    "\n",
    "output:\n",
    "        Inside Function [10, 20, 30, 40, 50]\n",
    "        Outside Function: [10, 20, 30, 40, 50]\n"
   ]
  },
  {
   "cell_type": "markdown",
   "metadata": {},
   "source": [
    "# reduce () function in python"
   ]
  },
  {
   "cell_type": "code",
   "execution_count": null,
   "metadata": {},
   "outputs": [],
   "source": [
    "The reduce() function accepts a function and a sequence and returns a single value calculated\n",
    "1. Initially, the function is called with the first two items from the sequence and the result is returned.\n",
    "2. The function is then called again with the result obtained in step 1 and the next value in the sequence.\n",
    "This process keeps repeating until there are items in the sequence.\n",
    "\n",
    "Syntax: reduce(function, sequence) \n",
    "    \n",
    "from functools import reduce"
   ]
  },
  {
   "cell_type": "markdown",
   "metadata": {},
   "source": [
    "# Monkey patching in python"
   ]
  },
  {
   "cell_type": "code",
   "execution_count": null,
   "metadata": {},
   "outputs": [],
   "source": [
    "In Python, the term monkey patch only refers to dynamic modifications of a class or module at run-time.\n",
    "\n",
    "\n",
    "# m.py\n",
    "class MyClass:\n",
    "def f(self):\n",
    "print \"f()\"\n",
    "We can then run the monkey-patch testing like this:\n",
    "\n",
    "\n",
    "import m\n",
    "def monkey_f(self):\n",
    "print \"monkey_f()\"\n",
    " \n",
    "m.MyClass.f = monkey_f\n",
    "obj = m.MyClass()\n",
    "obj.f()\n",
    "The output will be as below:\n",
    "\n",
    "o/p :monkey_f()"
   ]
  },
  {
   "cell_type": "code",
   "execution_count": 5,
   "metadata": {},
   "outputs": [
    {
     "name": "stdout",
     "output_type": "stream",
     "text": [
      "beautybeauty\n"
     ]
    }
   ],
   "source": [
    "string1=\"beauty\"\n",
    "print(2*string1)"
   ]
  },
  {
   "cell_type": "code",
   "execution_count": null,
   "metadata": {},
   "outputs": [],
   "source": [
    "# connect python with oracle database\n",
    "import cx_Oracle\n",
    "\n",
    "connection=cx_Oracle(\" \")\n",
    "cursor=connection.cursor()\n",
    "\n",
    "rs=cursor.execute(\"select * from employees\")\n"
   ]
  },
  {
   "cell_type": "markdown",
   "metadata": {},
   "source": [
    "# Object Relational Mappers"
   ]
  },
  {
   "cell_type": "code",
   "execution_count": null,
   "metadata": {},
   "outputs": [],
   "source": [
    " An object-relational mapper (ORM) is a code library that automates the transfer of data \n",
    "stored in relational databases tables into objects that are more commonly used in application code."
   ]
  },
  {
   "cell_type": "markdown",
   "metadata": {},
   "source": [
    "# dogpile effect"
   ]
  },
  {
   "cell_type": "code",
   "execution_count": null,
   "metadata": {},
   "outputs": [],
   "source": [
    "The Dogpile effect occurs when cache expires and websites are hit by numerous requests the same time. \n",
    "It is triggered because we allowed more than one request to execute the expensive query.\n",
    "Dog pile effect can be prevented using semaphore lock"
   ]
  },
  {
   "cell_type": "markdown",
   "metadata": {},
   "source": [
    "# process of compilation and linking in python"
   ]
  },
  {
   "cell_type": "code",
   "execution_count": null,
   "metadata": {},
   "outputs": [],
   "source": [
    "Compilation: The source code in python is saved as a .py file which is then compiled into a format known as byte code,\n",
    "    byte code is then converted to machine code. After the compilation, the code is stored in .pyc files and is regenerated \n",
    "    when the source is updated. This process is known as compilation.\n",
    "\n",
    "Linking: Linking is the final phase where all the functions are linked with their definitions as the linker knows where all\n",
    "    these functions are implemented. This process is known as linking"
   ]
  },
  {
   "cell_type": "markdown",
   "metadata": {},
   "source": [
    "# binary of an integer number"
   ]
  },
  {
   "cell_type": "code",
   "execution_count": null,
   "metadata": {},
   "outputs": [],
   "source": [
    "Python provides bin () function is used to convert an Integer number represented in any base to binary number as a String. \n",
    "where num is an Integer number whose binary equivalent is to be calculated. The value returned is the valid Python expression"
   ]
  },
  {
   "cell_type": "code",
   "execution_count": 9,
   "metadata": {},
   "outputs": [
    {
     "name": "stdout",
     "output_type": "stream",
     "text": [
      "0b10\n"
     ]
    }
   ],
   "source": [
    "n=2\n",
    "s=bin(n)\n",
    "print(s)"
   ]
  },
  {
   "cell_type": "markdown",
   "metadata": {},
   "source": [
    "# remove, delete, pop diffference"
   ]
  },
  {
   "cell_type": "code",
   "execution_count": null,
   "metadata": {},
   "outputs": [],
   "source": [
    "remove : remove() removes the first matching value or object, not a specific indexing. lets say list.remove(value)\n",
    "del : del removes the item at a specific index. lets say del list[index]\n",
    "pop : pop removes the item at a specific index and returns it. lets say list.pop(index)"
   ]
  },
  {
   "cell_type": "markdown",
   "metadata": {},
   "source": [
    "# repr() and str()"
   ]
  },
  {
   "cell_type": "code",
   "execution_count": null,
   "metadata": {},
   "outputs": [],
   "source": [
    "The built-in functions repr() and str() respectively call object.__repr__(self) and object.__str__(self) methods. \n",
    "First function computes official representation of the object, while second returns informal representation of the object.\n",
    "\n",
    "Result of both functions is same for integer object."
   ]
  },
  {
   "cell_type": "markdown",
   "metadata": {},
   "source": [
    "# are dictionaries or lists faster in python"
   ]
  },
  {
   "cell_type": "code",
   "execution_count": null,
   "metadata": {},
   "outputs": [],
   "source": [
    "-Dictionaries are faster because of the way Python implements dictionaries using hash tables. \n",
    "Dictionaries are Python's built-in mapping type and  so have also been highly optimised"
   ]
  },
  {
   "cell_type": "markdown",
   "metadata": {},
   "source": [
    "# How to minimize the memcached server outages in python development"
   ]
  },
  {
   "cell_type": "code",
   "execution_count": null,
   "metadata": {},
   "outputs": [],
   "source": [
    "# Memcached\n",
    "Memcached is a general-purpose distributed memory-caching system. \n",
    "It is used for speeding up dynamic web applications by reducing database load. \n",
    "every time a database request is made, it adds additional load to the server. \n",
    "Memcached reduces that load by storing data objects in dynamic memory "
   ]
  },
  {
   "cell_type": "markdown",
   "metadata": {},
   "source": [
    "# what are parameterized constructors and non parameterized constructors"
   ]
  },
  {
   "cell_type": "code",
   "execution_count": null,
   "metadata": {},
   "outputs": [],
   "source": [
    "#Constructor\n",
    "A constructor can simply be defined as a special type of method or function which can be used to initialize instances of\n",
    "various members in a class\n",
    "\n",
    "#Non-parameterized Constructor: \n",
    "    The constructors in Python which have no parametres present is known as a non parameterized constructor.\n",
    "    def __init__(self):\n",
    "#Parameterized Constructor: \n",
    "    A constructor that has a parametre pre defined is known as a parameterized constructor.\n",
    "    def __init__(self, name):\n",
    "    "
   ]
  },
  {
   "cell_type": "markdown",
   "metadata": {},
   "source": [
    "# Data Structures in Python"
   ]
  },
  {
   "cell_type": "code",
   "execution_count": null,
   "metadata": {},
   "outputs": [],
   "source": [
    "# Data structures\n",
    "-Organizing, managing and storing data is important as it enables easier access and efficient modifications.\n",
    "# Inbuilt\n",
    "  List, dict, tuple,set\n",
    "# User defined\n",
    "  Stack, Queue, Tree, Linked List, Hash Table, Graph"
   ]
  },
  {
   "cell_type": "markdown",
   "metadata": {},
   "source": [
    "# Does python supports interfaces like java"
   ]
  },
  {
   "cell_type": "code",
   "execution_count": null,
   "metadata": {},
   "outputs": [],
   "source": [
    "No, python does not have any equivalent of interfaces .\n",
    "Since Python does support multiple inheritance, you can easily emulate the equivalence of interfaces.\n",
    "\n",
    "Interfaces are concepts that belong to statically typed languages such as Java or C#, \n",
    "and do not really apply to dynamic language such as Python.\n",
    "\n",
    "Python doesn't have interfaces because it has late binding\n",
    "\n",
    "Dynamic binding also called dynamic dispatch is the process of linking procedure call \n",
    "to a specific sequence of code (method) at run-time\n",
    "\n",
    "In computing, an interface is a shared boundary across which two or more separate components\n",
    "of a computer system exchange information\n",
    "\n",
    "Compile-time is the time at which the source code is converted into an executable code\n",
    "while the run time is the time at which the executable code is started running"
   ]
  },
  {
   "cell_type": "markdown",
   "metadata": {},
   "source": [
    "# Diffrentiate between Django pyramid and Flask"
   ]
  },
  {
   "cell_type": "code",
   "execution_count": null,
   "metadata": {},
   "outputs": [],
   "source": []
  },
  {
   "cell_type": "markdown",
   "metadata": {},
   "source": [
    "# what is custom exceptions, How to create in python"
   ]
  },
  {
   "cell_type": "code",
   "execution_count": null,
   "metadata": {},
   "outputs": [],
   "source": [
    "If you are creating your own Exception that is known as custom exception or user-defined exception.\n",
    "\n",
    "In Python, users can define custom exceptions by creating a new class. This exception class has to be derived,\n",
    "either directly or indirectly, from the built-in 'Exception' class. \n",
    "Most of the built-in exceptions are also derived from this class.\n",
    "\n",
    "Python raise keyword\n",
    "except is a keyword (case-sensitive) in python, \n",
    "it is used to raise an Exception/Error with a customized message and stops the execution of the programs.\n",
    "\n",
    "class MyException(Exception):\n",
    "    pass\n",
    "\n",
    "raise MyException(\"My hovercraft is full of eels\")\n"
   ]
  },
  {
   "cell_type": "markdown",
   "metadata": {},
   "source": [
    "# what is peephole optimization technique"
   ]
  },
  {
   "cell_type": "code",
   "execution_count": null,
   "metadata": {},
   "outputs": [],
   "source": [
    "# Peephole optimization\n",
    "Peephole optimization is a type of Code Optimization performed on a small part of the code.\n",
    "It is performed on the very small set of instructions in a segment of code.\n",
    "\n",
    "It basically works on the theory of replacement in which a part of code is replaced by shorter and faster code \n",
    "without change in output.\n",
    "\n",
    "eg:Initial code:\n",
    "y = x + 5;\n",
    "i = y;\n",
    "z = i;\n",
    "w = z * 3;\n",
    "\n",
    "Optimized code:\n",
    "y = x + 5;\n",
    "i = y;\n",
    "w = y * 3;\n",
    "\n",
    "To improve performance\n",
    "To reduce memory footprint\n",
    "To reduce code size\n",
    "\n"
   ]
  },
  {
   "cell_type": "markdown",
   "metadata": {},
   "source": [
    "# code optimization techniques in python"
   ]
  },
  {
   "cell_type": "code",
   "execution_count": null,
   "metadata": {},
   "outputs": [],
   "source": [
    "# To increase the performance of the code and to make it faster\n",
    "\n",
    "1. Peephole Optimization technique\n",
    "2. Use builtin functions and libraries (no need to execute loop, so pgm will speed up)\n",
    "3. Using external libraries/packages\n",
    "Some python libraries have a “C” equivalent with same features as of the original library.\n",
    "Being written in “C” makes them perform faster. For example, try using cPickle instead of using pickle.\n",
    "4.Use local variable if possible: Python is faster retrieving a local variable than retrieving a global variable\n",
    "5.Use Python multiple assignment to swap variables: This is elegant and faster in Python.\n",
    "    x=5\n",
    "    y=7\n",
    "use x,y=5,7\n",
    "6. Try multiple coding approaches\n",
    "  eg : to find reverse..1. reverse fn, 2.using loops\n",
    "  eg: to remove duplicates from list convert into set  or use loops"
   ]
  },
  {
   "cell_type": "markdown",
   "metadata": {},
   "source": [
    "# diffrentiate between python 2 and python 3"
   ]
  },
  {
   "cell_type": "code",
   "execution_count": null,
   "metadata": {},
   "outputs": [],
   "source": [
    "# 1.print keyword in Python 2.x is replaced by the print() function in Python 3.x. \n",
    "# 2.Python 3 has improved integer division ( 5/2=2 in python 2 and 2.5 in python 3)\n",
    "# 3. In Python 3, text strings are Unicode by default. In Python 2, strings are stored as ASCII by default\n",
    "  (Unicode strings can store foreign language letters, Roman letters and numerals, symbols, emojis, etc)\n",
    "  (ASCII defines 128 (2^7) characters, which map to the numbers 0–127. Unicode defines  2^21 characters,)"
   ]
  },
  {
   "cell_type": "markdown",
   "metadata": {},
   "source": [
    "# input injection"
   ]
  },
  {
   "cell_type": "code",
   "execution_count": null,
   "metadata": {},
   "outputs": [],
   "source": [
    "In an injection attack, an attacker supplies untrusted input to a program. \n",
    "This input gets processed by an interpreter as part of a command or query. In turn, this alters the execution of that program"
   ]
  },
  {
   "cell_type": "markdown",
   "metadata": {},
   "source": [
    "# what are the python DB APIs for database like oracle and mysql"
   ]
  },
  {
   "cell_type": "code",
   "execution_count": null,
   "metadata": {},
   "outputs": [],
   "source": [
    "The Python Database API (DB-API) defines a standard interface for Python database access modules.\n",
    "\n",
    "--cx_Oracle is a Python extension module that enables access to Oracle Database\n",
    "--cx_Oracle 8 has been tested with Python versions 3.5 through 3.8. Older versions of cx_Oracle may be used\n",
    "   with previous Python releases.You can use cx_Oracle with Oracle 11.2, 12, 18 and 19 client libraries.\n",
    "  \n",
    "Eg : connet with oracle and execute a query\n",
    "import cx_Oracle\n",
    "import db_config\n",
    "\n",
    "con = cx_Oracle.connect(db_config.user, db_config.pw, db_config.dsn)\n",
    "\n",
    "cur = con.cursor()\n",
    "cur.execute(\"select * from dept order by deptno\")\n",
    "res = cur.fetchall()\n",
    "for row in res:\n",
    "    print(row)\n",
    "    \n",
    "    \n",
    "refer https://oracle.github.io/python-cx_Oracle/"
   ]
  },
  {
   "cell_type": "markdown",
   "metadata": {},
   "source": [
    "# time.time in python"
   ]
  },
  {
   "cell_type": "code",
   "execution_count": null,
   "metadata": {},
   "outputs": [],
   "source": [
    "Python time. time() The time() function returns the number of seconds passed since epoch"
   ]
  },
  {
   "cell_type": "markdown",
   "metadata": {},
   "source": [
    "# pdb commands for debugging python program"
   ]
  },
  {
   "cell_type": "code",
   "execution_count": null,
   "metadata": {},
   "outputs": [],
   "source": []
  },
  {
   "cell_type": "markdown",
   "metadata": {},
   "source": [
    "# what is the command to debugg a python program"
   ]
  },
  {
   "cell_type": "code",
   "execution_count": null,
   "metadata": {},
   "outputs": [],
   "source": [
    "Python has a built-in debugger called pdb "
   ]
  },
  {
   "cell_type": "markdown",
   "metadata": {},
   "source": [
    "# how do you monitor the code flow of a program in python"
   ]
  },
  {
   "cell_type": "code",
   "execution_count": null,
   "metadata": {},
   "outputs": [],
   "source": [
    "The trace module allows you to trace program execution, generate annotated statement coverage listings,\n",
    "print caller/callee relationships and list functions executed during a program run."
   ]
  },
  {
   "cell_type": "markdown",
   "metadata": {},
   "source": [
    "# read a random line from a file"
   ]
  },
  {
   "cell_type": "code",
   "execution_count": null,
   "metadata": {},
   "outputs": [],
   "source": [
    "import random\n",
    "lines = open('file.txt').read().splitlines()\n",
    "myline =random.choice(lines)\n",
    "print(myline)\n",
    "\n",
    "The splitlines() method returns a list with all the lines in string"
   ]
  },
  {
   "cell_type": "markdown",
   "metadata": {},
   "source": [
    "# split() sub() subn()"
   ]
  },
  {
   "cell_type": "code",
   "execution_count": null,
   "metadata": {},
   "outputs": [],
   "source": [
    "split() – uses a regex pattern to “split” a given string into a list.\n",
    "sub() – finds all substrings where the regex pattern matches and then replace them with a different string\n",
    "subn() – it is similar to sub() and also returns the new string along with the no. of replacements."
   ]
  },
  {
   "cell_type": "markdown",
   "metadata": {},
   "source": [
    "# try catch finally"
   ]
  },
  {
   "cell_type": "code",
   "execution_count": null,
   "metadata": {},
   "outputs": [],
   "source": []
  },
  {
   "cell_type": "markdown",
   "metadata": {},
   "source": [
    "# MRO in python"
   ]
  },
  {
   "cell_type": "code",
   "execution_count": null,
   "metadata": {},
   "outputs": [],
   "source": [
    "-Method Resolution Order (MRO) is the order in which Python looks for a method in a hierarchy of classes.\n",
    "Especially it plays vital role in the context of multiple inheritance as single method may be found in multiple super classes.\n",
    "\n",
    "-First, it is searched in the current class. If not found, the search moves to parent classes. \n",
    "This is left-to-right, depth-first.\n",
    "\n",
    "-This order is called linearization of class Child, and the set of rules applied are called MRO (Method Resolution Order)"
   ]
  },
  {
   "cell_type": "markdown",
   "metadata": {},
   "source": [
    "# how do we make forms in python"
   ]
  },
  {
   "cell_type": "code",
   "execution_count": null,
   "metadata": {},
   "outputs": [],
   "source": [
    "Python provides the Tkinter toolkit to develop GUI applications."
   ]
  },
  {
   "cell_type": "markdown",
   "metadata": {},
   "source": [
    "# what is a namedtuple and how tuple packing and unpacking done"
   ]
  },
  {
   "cell_type": "code",
   "execution_count": null,
   "metadata": {},
   "outputs": [],
   "source": [
    "# Namedtuple\n",
    "\n",
    "-The NamedTuple is another class, under the collections module. Like the dictionary type objects,\n",
    "it contains keys and that are mapped to some values. In this case we can access the elements using keys and indexes.\n",
    "\n",
    "-From NamedTuple, we can access the values using indexes, keys and the getattr() method. \n",
    "The attribute values of NamedTuple are ordered. So we can access them using the indexes."
   ]
  },
  {
   "cell_type": "code",
   "execution_count": 2,
   "metadata": {},
   "outputs": [
    {
     "name": "stdout",
     "output_type": "stream",
     "text": [
      "The name and salary of e1: Asim and 25000\n",
      "The name and salary of e2: Bibhas and 30000\n",
      "The City of e1 and e2: Delhi and Kolkata\n"
     ]
    }
   ],
   "source": [
    "import collections as col\n",
    "#create employee NamedTuple\n",
    "Employee = col.namedtuple('Employee', ['name', 'city', 'salary'])\n",
    "#Add two employees\n",
    "e1 = Employee('Asim', 'Delhi', '25000')\n",
    "e2 = Employee('Bibhas', 'Kolkata', '30000')\n",
    "#Access the elements using index\n",
    "print('The name and salary of e1: ' + e1[0] + ' and ' + e1[2])\n",
    "#Access the elements using attribute name\n",
    "print('The name and salary of e2: ' + e2.name + ' and ' + e2.salary)\n",
    "#Access the elements using getattr()\n",
    "print('The City of e1 and e2: ' + getattr(e1, 'city') + ' and ' + getattr(e2, 'city'))"
   ]
  },
  {
   "cell_type": "code",
   "execution_count": null,
   "metadata": {},
   "outputs": [],
   "source": [
    " # Tuple packing an unpacking\n",
    "\n",
    "In Python there is a very powerful tuple assignment feature that assigns right hand side of values into left hand side.\n",
    "In other way it is called unpacking of a tuple of values into a variable. \n",
    "In packing, we put values into a new tuple while in unpacking we extract those values into a single variable."
   ]
  },
  {
   "cell_type": "markdown",
   "metadata": {},
   "source": [
    "# Itertools in python"
   ]
  },
  {
   "cell_type": "code",
   "execution_count": null,
   "metadata": {},
   "outputs": [],
   "source": [
    "Python’s Itertool is a module that provides various functions that work on iterators to produce complex iterators.\n",
    "this is fast and memory efficient"
   ]
  },
  {
   "cell_type": "code",
   "execution_count": null,
   "metadata": {},
   "outputs": [],
   "source": [
    "#itertools.groupby\n",
    "\n",
    "This method calculates the keys for each element present in iterable. It returns key and iterable of grouped items.\n",
    "\n",
    "Syntax: itertools.groupby(iterable, key_func)\n",
    "    \n",
    "Return type: It returns consecutive keys and groups from the iterable. \n",
    "    If the key function is not specified or is None, key defaults to an identity function and returns the element unchanged."
   ]
  },
  {
   "cell_type": "code",
   "execution_count": 1,
   "metadata": {},
   "outputs": [
    {
     "name": "stdout",
     "output_type": "stream",
     "text": [
      "a : [('a', 1), ('a', 2)]\n",
      "b : [('b', 3), ('b', 4)]\n"
     ]
    }
   ],
   "source": [
    "import itertools \n",
    "  \n",
    "  \n",
    "L = [(\"a\", 1), (\"a\", 2), (\"b\", 3), (\"b\", 4)] \n",
    "  \n",
    "# Key function \n",
    "key_func = lambda x: x[0] \n",
    "  \n",
    "for key, group in itertools.groupby(L, key_func): \n",
    "    print(key + \" :\", list(group))"
   ]
  },
  {
   "cell_type": "markdown",
   "metadata": {},
   "source": [
    "# Python virtual environment"
   ]
  },
  {
   "cell_type": "code",
   "execution_count": null,
   "metadata": {},
   "outputs": [],
   "source": [
    "#How to create a virtual environment\n",
    "#why do we need it\n",
    "\n",
    "Imagine a scenario where you are working on two web based python projects and one of them uses a Django 1.9 and\n",
    "the other uses Django 1.10 and so on. In such situations virtual environment can be really useful to maintain dependencies \n",
    "of both the projects.\n",
    "\n",
    "the main purpose of Python virtual environments is to create an isolated environment for Python projects.\n",
    "This means that each project can have its own dependencies, regardless of what dependencies every other project has.\n"
   ]
  },
  {
   "cell_type": "code",
   "execution_count": null,
   "metadata": {},
   "outputs": [],
   "source": [
    "The venv module provides support for creating lightweight “virtual environments” with their own site directories,\n",
    "optionally isolated from system site directories\n",
    "\n",
    "Each virtual environment has its own Python binary (which matches the version of the binary that was used to create \n",
    "this environment) and can have its own independent set of installed Python packages in its site directories.\n"
   ]
  },
  {
   "cell_type": "code",
   "execution_count": null,
   "metadata": {},
   "outputs": [],
   "source": [
    "$ pip install venv\n",
    "$ venv --version\n",
    "$ venv my_name\n",
    "\n",
    "to create virtual env for a specific project\n",
    "$ vlenv -p /usr/bin/python3 venv_name\n",
    "\n",
    "Now after creating virtual environment, you need to activate it. \n",
    "$ source venv_name/bin/activate\n",
    "Once the virtual environment is activated, the name of your virtual environment will appear on left side of terminal\n",
    "\n",
    "\n",
    "Once you are done with the work, you can deactivate the virtual environment by the following command:\n",
    "\n",
    "(virtualenv_name)$ deactivate"
   ]
  },
  {
   "cell_type": "markdown",
   "metadata": {},
   "source": [
    "# How do you set up your local for python development"
   ]
  },
  {
   "cell_type": "code",
   "execution_count": null,
   "metadata": {},
   "outputs": [],
   "source": [
    "Install the latest version of Python.\n",
    "Use venv to isolate dependencies.\n",
    "Install an editor (optional). (pycharm,atom,sublime text editor)\n",
    "Install the Cloud SDK (optional).\n",
    "Install the Cloud Client Libraries for Python (optional).\n",
    "Install other useful tools."
   ]
  },
  {
   "cell_type": "code",
   "execution_count": null,
   "metadata": {},
   "outputs": [],
   "source": []
  },
  {
   "cell_type": "markdown",
   "metadata": {},
   "source": [
    "# python subprocesses"
   ]
  },
  {
   "cell_type": "code",
   "execution_count": null,
   "metadata": {},
   "outputs": [],
   "source": [
    "-used to execute pgms written in another languages\n",
    "\n",
    "The subprocess module present in Python(both 2.x and 3.x) is used to run new applications or programs through Python code by \n",
    "creating new processes. It also helps to obtain the input/output/error pipes as well as the exit codes of various commands."
   ]
  },
  {
   "cell_type": "code",
   "execution_count": null,
   "metadata": {},
   "outputs": [],
   "source": [
    "To execute different programs using Python two functions of the subprocess module are used:\n",
    "    1.subprocess.check_call(args, *, stdin=None, stdout=None, stderr=None, shell=False)\n",
    "    2.subprocess.check_output(args, *, stdin=None, stderr=None, shell=False, universal_newlines=False)"
   ]
  },
  {
   "cell_type": "code",
   "execution_count": null,
   "metadata": {},
   "outputs": [],
   "source": [
    "#Abstract class\n",
    "metaclass\n",
    "why python as an interpreted language"
   ]
  },
  {
   "cell_type": "markdown",
   "metadata": {},
   "source": [
    "# Abstract classes"
   ]
  },
  {
   "cell_type": "code",
   "execution_count": null,
   "metadata": {},
   "outputs": [],
   "source": []
  },
  {
   "cell_type": "markdown",
   "metadata": {},
   "source": [
    "# Metaclass"
   ]
  },
  {
   "cell_type": "code",
   "execution_count": null,
   "metadata": {},
   "outputs": [],
   "source": []
  },
  {
   "cell_type": "markdown",
   "metadata": {},
   "source": [
    "# What does the if __name__ == “__main__”: do?"
   ]
  },
  {
   "cell_type": "code",
   "execution_count": null,
   "metadata": {},
   "outputs": [],
   "source": []
  }
 ],
 "metadata": {
  "kernelspec": {
   "display_name": "Python 3",
   "language": "python",
   "name": "python3"
  },
  "language_info": {
   "codemirror_mode": {
    "name": "ipython",
    "version": 3
   },
   "file_extension": ".py",
   "mimetype": "text/x-python",
   "name": "python",
   "nbconvert_exporter": "python",
   "pygments_lexer": "ipython3",
   "version": "3.8.3"
  }
 },
 "nbformat": 4,
 "nbformat_minor": 2
}
